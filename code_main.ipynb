{
 "cells": [
  {
   "cell_type": "code",
   "execution_count": 5,
   "id": "5d4d0eeb",
   "metadata": {},
   "outputs": [],
   "source": [
    "# importing important libraries\n",
    "import os\n",
    "import sys\n",
    "from dotenv import load_dotenv\n",
    "from openai import OpenAI\n",
    "from pypdf import PdfReader\n",
    "from docx import Document\n",
    "import gradio as gr\n",
    "import requests"
   ]
  },
  {
   "cell_type": "code",
   "execution_count": 2,
   "id": "eb59f14f",
   "metadata": {},
   "outputs": [],
   "source": [
    "load_dotenv(override=True)\n",
    "openai = OpenAI()\n",
    "llama = OpenAI(base_url='http://localhost:11434/v1', api_key='ollama')"
   ]
  },
  {
   "cell_type": "code",
   "execution_count": 3,
   "id": "80e233fc",
   "metadata": {},
   "outputs": [],
   "source": [
    "pushover_user = os.getenv('PUSHOVER_USER')\n",
    "pushover_token = os.getenv('PUSHOVER_TOKEN')\n",
    "pushover_url = 'https://api.pushover.net/1/messages.json'"
   ]
  },
  {
   "cell_type": "code",
   "execution_count": 6,
   "id": "9bf36d80",
   "metadata": {},
   "outputs": [],
   "source": [
    "def push(message):\n",
    "    print(f\"Pushover message: {message}\")\n",
    "    payload = {\n",
    "        'user': pushover_user,\n",
    "        'token': pushover_token,\n",
    "        'message': message,\n",
    "    }\n",
    "    response = requests.post(pushover_url, data=payload)\n",
    "    if response.status_code == 200:\n",
    "        print(\"Pushover message sent successfully.\")\n",
    "    else:\n",
    "        print(f\"Failed to send Pushover message. Status code: {response.status_code}, Response: {response.text}\")\n"
   ]
  },
  {
   "cell_type": "code",
   "execution_count": 8,
   "id": "8795e99f",
   "metadata": {},
   "outputs": [
    {
     "name": "stdout",
     "output_type": "stream",
     "text": [
      "Pushover message: Heyyy PK-Pulse is running!\n",
      "Pushover message sent successfully.\n"
     ]
    }
   ],
   "source": [
    "push('Heyyy PK-Pulse is running!')"
   ]
  },
  {
   "cell_type": "code",
   "execution_count": 9,
   "id": "699851b6",
   "metadata": {},
   "outputs": [],
   "source": [
    "# create two tool functions: record_user_details and record_unknown_question\n",
    "\n",
    "def record_user_details(email, name='Not Provided', phone='Not Provided', notes='Not Provided'):\n",
    "    \"\"\"\n",
    "    Records user details and returns a confirmation message.\n",
    "    \"\"\"\n",
    "    # Here you can implement the logic to store the user details in a database or file\n",
    "    push(f\"User Details Recorded: Email: {email}, Name: {name}, Phone: {phone}, Notes: {notes}\")\n",
    "    return f\"User details recorded for {name} with email {email}: OKAY\"\n",
    "\n",
    "def record_unknown_question(question):\n",
    "    \"\"\" Records an unknown question and returns a confirmation message.\n",
    "    \"\"\"\n",
    "    # Here you can implement the logic to store the unknown question in a database or file\n",
    "    push(f\"Unknown Question Recorded: {question}\")\n",
    "    return f\"Unknown question recorded: {question}: OKAY\""
   ]
  },
  {
   "cell_type": "code",
   "execution_count": 12,
   "id": "dcc779b4",
   "metadata": {},
   "outputs": [],
   "source": [
    "# creating json tool for llm\n",
    "tools_dict = {\n",
    "\"tool_record_user_details_json\":{\n",
    "    \"name\" : \"record_user_details\",\n",
    "    \"description\" : \"Use this tool to record user details like email, name, phone, and notes, if user wants to get in touch\",\n",
    "    \"parameters\":{\n",
    "        \"type\":\"object\",\n",
    "        \"properties\":{\n",
    "            \"email\":{\n",
    "                \"type\":\"string\",\n",
    "                \"description\":\"The email address of the user\"\n",
    "            },\n",
    "            \"name\":{\n",
    "                \"type\":\"string\",\n",
    "                \"description\":\"The name of the user, if provided\"\n",
    "            },\n",
    "            \"phone\":{\n",
    "                \"type\":\"string\",\n",
    "                \"description\":\"The phone number of the user, if provided\"\n",
    "            },\n",
    "            \"notes\":{\n",
    "                \"type\":\"string\",\n",
    "                \"description\":\"Any additional notes or information about the user\"\n",
    "            }\n",
    "        },\n",
    "        \"required\":[\"email\"],\n",
    "        \"additionalProperties\":False\n",
    "    }\n",
    "},\n",
    "'tool_record_unknown_question_json':{\n",
    "    \"name\": \"record_unknown_question\",\n",
    "    \"description\": \"Use this tool to record an unknown question that the user has asked and you are not able to answer\",\n",
    "    \"parameters\":{\n",
    "        \"type\": \"object\",\n",
    "        \"properties\": {\n",
    "            \"question\": {\n",
    "                \"type\": \"string\",\n",
    "                \"description\": \"The unknown question that the user has asked\"\n",
    "            }\n",
    "        },\n",
    "        \"required\": [\"question\"],\n",
    "        \"additionalProperties\": False\n",
    "    }\n",
    "}    \n",
    "}"
   ]
  },
  {
   "cell_type": "code",
   "execution_count": 13,
   "id": "bff77ce4",
   "metadata": {},
   "outputs": [],
   "source": [
    "tools = [{\"type\": \"function\", \"function\": tools_dict[\"tool_record_user_details_json\"]},\n",
    "         {\"type\": \"function\", \"function\": tools_dict[\"tool_record_unknown_question_json\"]}]"
   ]
  },
  {
   "cell_type": "code",
   "execution_count": 38,
   "id": "8d8612a2",
   "metadata": {},
   "outputs": [],
   "source": [
    "# now the if else logic for the tools (behind the scenes of llm :p )\n",
    "import json\n",
    "def tool_call_handler(tool_calls):\n",
    "    results = []\n",
    "    for tool_call in tool_calls:\n",
    "        tool_name = tool_call.function.name\n",
    "        tool_args = json.loads(tool_call.function.arguments)\n",
    "        print(f\"Tool called: {tool_name}, Arguments: {tool_args}\", flush=True)\n",
    "        tool = globals().get(tool_name)\n",
    "        result = tool(**tool_args) if tool else f\"Tool {tool_name} not found.\"\n",
    "        results.append({\"role\":\"tool\", \"content\":json.dumps(result), \"tool_call_id\":tool_call.id})\n",
    "    return results"
   ]
  },
  {
   "cell_type": "code",
   "execution_count": 39,
   "id": "7138edcc",
   "metadata": {},
   "outputs": [
    {
     "name": "stdout",
     "output_type": "stream",
     "text": [
      "Pushover message: Unknown Question Recorded: this is a really hard question\n",
      "Pushover message sent successfully.\n"
     ]
    },
    {
     "data": {
      "text/plain": [
       "'Unknown question recorded: this is a really hard question: OKAY'"
      ]
     },
     "execution_count": 39,
     "metadata": {},
     "output_type": "execute_result"
    }
   ],
   "source": [
    "globals()['record_unknown_question']((\"this is a really hard question\"))"
   ]
  },
  {
   "cell_type": "code",
   "execution_count": 40,
   "id": "ae52bbbb",
   "metadata": {},
   "outputs": [],
   "source": [
    "about_me_folder_path = './about_me'\n",
    "# above folder contains the about me files\n",
    "about_me_files = os.listdir(about_me_folder_path)\n",
    "# about_me_files = [file for file in about_me_files if file.endswith('.pdf') or file.endswith('.docx')]\n",
    "# above line filters the files to only include pdf and docx\n",
    "about_me_files = [file for file in about_me_files if file.endswith('.pdf') or file.endswith('.docx')]\n",
    "# above line filters the files to only include pdf and docx\n",
    "about_me_files = [os.path.join(about_me_folder_path, file) for file in about_me_files]\n",
    "# above line joins the folder path with the file name to get the full path of the file  \n",
    "def read_pdf(file_path):\n",
    "    reader = PdfReader(file_path)\n",
    "    text = ''\n",
    "    for page in reader.pages:\n",
    "        text += page.extract_text()\n",
    "    return text\n",
    "\n",
    "def read_docx(file_path):\n",
    "    doc = Document(file_path)\n",
    "    text = ''\n",
    "    for para in doc.paragraphs:\n",
    "        text += para.text + '\\n'\n",
    "    return text\n",
    "\n",
    "def read_about_me_files():\n",
    "    about_me_text = ''\n",
    "    for file in about_me_files:\n",
    "        if file.endswith('.pdf'):\n",
    "            about_me_text += read_pdf(file) + '\\n'\n",
    "        elif file.endswith('.docx'):\n",
    "            about_me_text += read_docx(file) + '\\n'\n",
    "    contact_info_file = os.path.join(about_me_folder_path, 'contact_info.txt')\n",
    "    if os.path.exists(contact_info_file):\n",
    "        with open(contact_info_file, 'r') as f:\n",
    "            contact_info = f.read()\n",
    "            about_me_text += contact_info + '\\n'\n",
    "    return about_me_text\n",
    "\n",
    "# def generate_response(prompt):\n",
    "#     about_me_text = read_about_me_files()\n",
    "#     response = openai.chat.completions.create(\n",
    "#         model=\"gpt-3.5-turbo\",\n",
    "#         messages=[\n",
    "#             {\"role\": \"system\", \"content\": \"You are a helpful assistant.\"},\n",
    "#             {\"role\": \"user\", \"content\": f\"{about_me_text}\\n\\n{prompt}\"}\n",
    "#         ]\n",
    "#     )\n",
    "#     return response.choices[0].message['content']"
   ]
  },
  {
   "cell_type": "code",
   "execution_count": 41,
   "id": "42dc2e98",
   "metadata": {},
   "outputs": [
    {
     "name": "stderr",
     "output_type": "stream",
     "text": [
      "Ignoring wrong pointing object 6 0 (offset 0)\n",
      "Ignoring wrong pointing object 8 0 (offset 0)\n",
      "Ignoring wrong pointing object 12 0 (offset 0)\n",
      "Ignoring wrong pointing object 14 0 (offset 0)\n",
      "Ignoring wrong pointing object 16 0 (offset 0)\n",
      "Ignoring wrong pointing object 19 0 (offset 0)\n",
      "Ignoring wrong pointing object 21 0 (offset 0)\n",
      "Ignoring wrong pointing object 23 0 (offset 0)\n",
      "Ignoring wrong pointing object 25 0 (offset 0)\n",
      "Ignoring wrong pointing object 27 0 (offset 0)\n",
      "Ignoring wrong pointing object 30 0 (offset 0)\n"
     ]
    }
   ],
   "source": [
    "about_me_text = read_about_me_files()"
   ]
  },
  {
   "cell_type": "code",
   "execution_count": 42,
   "id": "b68b1e0d",
   "metadata": {},
   "outputs": [],
   "source": [
    "name = 'Priyanshu Khandelwal '\n",
    "system_prompt = f\"\"\"You are representing  {name}. {name} is a data scientist with over 8.5 years of experience. He loves learning about tech. Currently he is is learning French and focusing on fitness. \n",
    "You are answering all the question on {name}'s behalf on {name}'s website. Whatever is the answer, first in very short form, reply it in upper caps, then in detail.\n",
    "You know all about {name}'s career, background, education, skills and interests. You are responsible to represent {name} on \n",
    "the interactions as faithfully as possible. You are not allowed to make up any information about {name}.You are given a summary\n",
    "seperately about {name} which you can use to answer the questions. You have to be proficient and professional and engaging, as you\n",
    "may be talking to potential employers, clients, or collaborators.. Be faithful, if you don't know the answer to a question, strictly say that you don't know this information about {name}. Don't misrepresent {name} in any way.\n",
    "You are not allowed to make up any information about {name}. If you are not sure about the answer, say that you are not sure. If you don't know something surely, then don't share it. ITS VERY IMPORTANT.\n",
    "\"\"\""
   ]
  },
  {
   "cell_type": "code",
   "execution_count": 43,
   "id": "c3dc201d",
   "metadata": {},
   "outputs": [],
   "source": [
    "system_prompt += f\"\\n\\nHere is the summary about {name}:\\n{about_me_text}\\n\\n\"\n",
    "system_prompt += \"You are a helpful assistant. You are answering all the questions as {name}.\\n\\n\""
   ]
  },
  {
   "cell_type": "code",
   "execution_count": null,
   "id": "e3cb005e",
   "metadata": {},
   "outputs": [],
   "source": [
    "use_ollama = True\n",
    "use_ollama_for_evaluation = False\n",
    "include_history = True\n",
    "ollama = OpenAI(base_url='http://localhost:11434/v1', api_key='ollama', ) "
   ]
  },
  {
   "cell_type": "code",
   "execution_count": null,
   "id": "a749df2a",
   "metadata": {},
   "outputs": [],
   "source": [
    "def chat(message, history=[], use_ollama=use_ollama, include_history=include_history):\n",
    "    if include_history:\n",
    "        messages = [{\"role\":\"system\", \"content\": system_prompt},] + history[-2:] + [{\"role\": \"user\", \"content\": message}]\n",
    "    else:\n",
    "        messages = [{\"role\":\"system\", \"content\": system_prompt}, {\"role\": \"user\", \"content\": message}]\n",
    "    print(f\"User: {message}\")\n",
    "    print(f\"Messages: {messages}\", flush=True)\n",
    "    done = False\n",
    "    while not done:\n",
    "        if use_ollama:\n",
    "            print('Using Ollama model')\n",
    "            response = ollama.chat.completions.create(model='llama3.2', messages=messages, \n",
    "                                                    temperature=0.05, \n",
    "                                                    max_tokens=1000,\n",
    "                                                    top_p=0.9,\n",
    "                                                    frequency_penalty=1.0,\n",
    "                                                    presence_penalty=0.5,\n",
    "                                                    # stop=[\".\"],\n",
    "                                                    tools=tools,\n",
    "                                                    )\n",
    "            reply = response.choices[0].message.content\n",
    "        else:\n",
    "            print('Using OpenAI model')\n",
    "            response = openai.chat.completions.create(model='gpt-4o-mini', messages=messages, tools=tools,)\n",
    "            reply = response.choices[0].message.content\n",
    "        history.append({\"role\": \"user\", \"content\": message})\n",
    "\n",
    "        finish_reasoning = response.choices[0].finish_reason\n",
    "        print(response)\n",
    "        print(f\"Finish Reasoning: {finish_reasoning}\", flush=True)\n",
    "        if finish_reasoning == 'tool_calls':\n",
    "            message = response.choices[0].message\n",
    "            tool_calls = message.tool_calls\n",
    "            results = tool_call_handler(tool_calls)\n",
    "            messages.append(message)\n",
    "            messages.extend(results)\n",
    "        # if ('not sure' in (response.choices[0].message.content).lower() \n",
    "        # or 'DON\\'T HAVE THIS INFORMATION'.lower() in (response.choices[0].message.content).lower()\n",
    "        # or 'don\\'t know this information'.lower() in (response.choices[0].message.content).lower()):\n",
    "        #     # use tool to record the unknown question\n",
    "        #     globals()['record_unknown_question'](response.choices[0].message.content)\n",
    "        #     done = True\n",
    "\n",
    "        else:\n",
    "            done=True\n",
    "    return reply"
   ]
  },
  {
   "cell_type": "code",
   "execution_count": 79,
   "id": "c1302df3",
   "metadata": {},
   "outputs": [
    {
     "name": "stdout",
     "output_type": "stream",
     "text": [
      "User: hi\n",
      "Messages: [{'role': 'system', 'content': \"You are representing  Priyanshu Khandelwal . Priyanshu Khandelwal  is a data scientist with over 8.5 years of experience. He loves learning about tech. Currently he is is learning French and focusing on fitness. \\nYou are answering all the question on Priyanshu Khandelwal 's behalf on Priyanshu Khandelwal 's website. Whatever is the answer, first in very short form, reply it in upper caps, then in detail.\\nYou know all about Priyanshu Khandelwal 's career, background, education, skills and interests. You are responsible to represent Priyanshu Khandelwal  on \\nthe interactions as faithfully as possible. You are not allowed to make up any information about Priyanshu Khandelwal .You are given a summary\\nseperately about Priyanshu Khandelwal  which you can use to answer the questions. You have to be proficient and professional and engaging, as you\\nmay be talking to potential employers, clients, or collaborators.. Be faithful, if you don't know the answer to a question, strictly say that you don't know this information about Priyanshu Khandelwal . Don't misrepresent Priyanshu Khandelwal  in any way.\\nYou are not allowed to make up any information about Priyanshu Khandelwal . If you are not sure about the answer, say that you are not sure. If you don't know something surely, then don't share it. ITS VERY IMPORTANT.\\n\\n\\nHere is the summary about Priyanshu Khandelwal :\\n RTCS (Real Time Campaign Selection):  (Delivered up  to 12% revenue boost) \\n Goal :  Pick the best possible campaign for a speciﬁc  user, on a view, for a speciﬁc time within milliseconds \\n -  To pick up campaign every time user opens the app we calculate AOV score for every campaign \\n -  AOV is a function of Predicted CTR and eCPM \\n -  CTR is provided by ML team and eCPM is provided by business \\n -  Backend team will impute ctr and eCPM in AOV formula at real time and then identify winning campaign \\n -  Winning campaign will be shown to the user \\n PS: Paytm App has multiple pages/screens, every screen has multiple views and each should have different advertisement banner \\n ML System Architecture \\n ML System: \\n -  Given the cost constraints, we can only do the prediction at customer x advertiser level \\n -  But in real time, scoring is required at view level because once user lands on screen, screen \\n contains multiple views \\n -  So we trained a separate model to calibrate our predicted scores at view level. We identified view \\n level coefficients to calibrate the probability scores at view level.These coefficients were provided \\n to BE (Backend) team through API, and they do First Level of Normalisation at realtime \\n -  Also during our experiments we realized that if we combined the first normalized ML score with \\n Rule Based (contextual) scores, we are getting better logloss (our offline performance metric). So \\n we also provided additive coefficients to combine the first norm and contextual scores. This final \\n score is called the Second normalized score. This score is also calculated in real time by the BE \\n team. \\n -  Second Norm score is the final score, which is actually  customer x advertiser x view  level score. \\n Final AOV Calculation:  -  Second norm score will be combined with eCPM to generate final AOV score \\n -  Based on highest AOV, the winning campaign will be decided and this winning campaign’s banner \\n will be shown to the user. \\n Audience Targeting:  (Boosted Platform ctr by 13%) \\n Goal:  Identify High engaging audience to target for  advertiser based on budget and other requirements (high \\n engaging, active users etc) \\n Process: \\n -  Based on requirements from operations (Ops) team, we give audience segment for every advertiser \\n whose campaign is live during current period \\n -  Frequency of updating audience segment is weekly \\n -  Its expected that segment audience will have high affinity with the advertiser and hence can deliver \\n more CTR/Engagement/Installs/Purchase/Lead (campaign objectives) \\n ML Architecture: \\n —-------------------------------------------------------------------------------------------------------------------------------------------- \\n These are a few of the key projects that I have delivered. Some other projects like delivering scratch cards to highly \\n engaging users and identifying customer cohorts for quick targeting, are other projects. Let me know if I need to share \\n these projects in more detail. \\n Thanks, \\n Priyanshu \\n\\nPriyanshu Khandelwal        LinkedIn Priyanshu.growth@gmail.com | +91-8982542474                                                                                  Bachelor’s in Computer Science (2012-2016)                                                                                                                                                                                                                                     SUMMARYSenior Data Scientist with 8.5 years of experience designing and implementing impactful ML solutions across diverse domains including supply chain, digital advertising, e-commerce, and SEO. Proficient in building robust, scalable ML systems that deliver measurable business value. Skilled in leading cross-functional teams to translate complex business problems into data-driven solutions with demonstrated ROI. Expertise in predictive modeling, NLP, generative AI, and customer behavior analysis. Fluent in English and intermediate French (A2 level).     SKILLS• Programming: Python, SQL, Visual Basic for Application, Data Structures and Algorithms, OOPs  • Frameworks & APIs: PySpark, Scikit-Learn, TensorFlow, Pytorch, Keras, NumPy, Pandas, Matplotlib, OpenAI, LLM, Gensim, MLlib  • Machine Learning: Regression, Tree-based Algorithms (XGBoost, Random Forest, CatBoost, LGBM), Deep Learning, Clustering, NMF, PCA, SVM, Word2Vec, BERT, Anomaly Detection  • Data Science: Statistical Analysis, A/B Testing, Feature Engineering, Data Pipeline Design, Storytelling, NLP, GenAI  • Visualization/Insights: Microsoft Excel, Looker Studio, Power BI, Sisense, Grafana  • DevOps & Deployment: AWS, MLOps, Git, Docker, Jupyter, VS Code, MLFlow, Flask, Streamlit, FastAPI, Kafka, Azkaban  • Languages: English (Fluent), French (A2 Level) EXPERIENCEØ       Fourkites India                  Chennai, Tamil Nadu                        Staff Data Scientist (ETA Prediction, Supply Chain)                                        May 2024 – Present • MCMH: Led development of an advanced ETA prediction system using innovative MCMH Regressor + Classification approach, enhancing delivery time accuracy by 28% across a regional distribution network serving 150+ enterprise clients • ETA forecasting methodology: Redesigned ETA forecasting methodology by incorporating machine learning models and clustering techniques tailored to Origin-Destination (OD) patterns, achieving a 22% reduction in customer complaints and generating $450K in annual operational cost savings • Similar Shippers Identification: Developed a custom in-house algorithm to intelligently identify and categorize shippers based on delivery patterns, geographic routes, and operational characteristics, enabling more precise logistics optimization and partner segmentation • Data pipeline optimization: Orchestrated data pipeline optimization that reduced processing time by 35% while maintaining prediction accuracy, significantly improving system scalability for growing client base • Monitoring: Spearheaded a cross-functional team of 8 to architect and launch unified monitoring dashboards for both shadow and production ML deployments, integrating real-time drift-detection alerts; slashed PM analysis time by 83 % (from 2 h to 20 min) Ø       Paytm Ads                   Noida, Uttar Pradesh                          Senior Data Scientist (Digital Advertising, User targeting)                                            Aug 2022 – May 2024 • Real Time Campaign Selection: ML-driven customer-level scores using CatBoost and Logistic Regression for precise advertisement targeting, projecting a 12% monthly revenue boost. Instant campaign selection ensures optimal ad delivery, maximizing performance (CTR and eCPM). • GenAI POC for revenue uplift: Implemented XGBoost model integrating visual creative & advertiser features using GPT-4 text & vision API. POC saw up to 13% performance gain. This led to significant impressions inventory saving, potentially yielding ~5% monthly revenue increase. • Audience Targeting: Designed a model to segment and target users akin to high-performing ones in advertiser or category. Aim was to enhance campaign result and advertiser ROI. ML segments showed ~60% higher CTR than rule-based, boosting our platform's CTR by 15%. • Customer Persona: Identified customer personas for Paytm Ads and created cohorts of customers based on behavior on Paytm app and ads. This helped us to understand hidden patterns, good/avg customers and active/dormant customers for 1p and MOA.  Ø    Adobe Inc.                  Noida, Uttar Pradesh                          Data Scientist, Adobe.com (Search Engine Optimization, SEO)                                                                                                                     May 2021 – Jul 2022 • Migration Tracking: Analyzing daily/weekly traffic change in Adobe.com and highlighting it to leadership on regular basis. This helped to track the migration of Adobe’s subdomains and migration’s impact on conversion and revenue. • Outreach project: Created an ML based model to understand the impact of outreach on organic traffic. This model is used by managers to estimate future efforts and ROI on their investments in backlink acquisitions. Estimated revenue jump was around $50k per month.   • Anomaly and Contribution Analysis Model: Managed a team of five including two interns to create an ensembled model using Isolation Forest and SGD to detect anomaly in Adobe's traffic & orders based on weekly KPIs and identify contributing factors. • Position Tracking Algorithm: Developed a simple but efficient Adobe internal algorithm using Random Forest and K-Means to understand changes in URL position over period of a time, which helped understand our SEO efforts over time.  • Identifying Similar Keywords and Creating Themes: Used Word2Vec to create cosine similarity-based model to create themes out of 1M keywords. These themes were used to identify new SEO opportunities.  • Multiple Analytics Projects: Handled multiple insights and analytics projects which were shared with higher leadership to understand the impact of various efforts in SEO to bring more organic traffic. These efforts helped forecast a revenue of $4M for CC & DC Adobe clouds.  Ø        Dunnhumby India                             Gurgaon, Haryana             Senior Data Scientist, UK Based Client (Ecommerce + Retail)                    Sep 2019 – May 2021 • Point of Market Entry: Built a module to identify clearly defined entry point for customers. The target was to understand which products customer prefer when they are buying into specific category. • Front of Store Missions/Themes: FOS includes multiple categories making it hard to analyze, needs of customers. Using NMF and Clustering on 7M baskets, we created a mission view for vital FOS objectives, revealing shopper engagement patterns and basket composition. • POS Customer Segmentation: Built a model to tag customers based on available historic customer segmentation that splits customers based on life stage & affluence. This helped to understand profiles of POS Customers  • Identifying Cannibalization: Client reported inverse sales behavior after they launched new products. We hypothesized this problem as cannibalization and justified it using Natural Language Processing model based on string matching algorithms & user behavior analysis.  Ø         Tata Consultancy Services                        Noida, Uttar Pradesh                  Data Science and Analytics (Retail + Healthcare)                                             Jan 2017 – Aug 2019 • Apple Sales Forecasting: Worked on ML modelling for Apple Sales to forecast apple devices sales for upcoming months. • MySupply project: Tracked routine changes in Apple devices for every device (outside India Region). The task was to coordinate with business and send them regular insights about the impact of those changes in business. • Change Ownership: Led changes for client software requirements, managed a diverse team and ensured smooth business processes.    TECHNICAL INNOVATIONS & RESEARCH PROJECTS¨ MCMH Regressor + Classification for ETA Prediction (Fourkites, 2023-2024): Developed a novel hybrid approach combining Monte Carlo Markov Chain methods with hierarchical regression and classification techniques to improve ETA prediction accuracy. This method adaptively handles multimodal transportation factors and dynamically adjusts predictions based on real-time conditions.  ¨ Backlink Attribution & SEO Ranking Algorithm (Adobe, 2021-2022): Created a statistical model and algorithm to quantify the precise relationship between backlink acquisition strategies and SEO ranking improvements. The model incorporated over 50 backlink quality factors and established predictive curves for determining optimal backlink investment to achieve target ranking positions.  ¨ Real-Time Ad Selection System Architecture (Paytm, 2022-2023): Designed a multi-level scoring and normalization framework for millisecond-level ad selection decisions, integrating ML prediction scores with business constraints and contextual relevance signals.      AWARDSª Adobe: Won Quarterly award (2021-Q4) and Quarterly award (2022-Q1) subdomain migration and insightful model for Adobe’s outreach. ª Dunnhumby: Received 4 Well Dunn (appreciations) for Individual Contribution and leadership roles. ª TCS: Received 2 Spot Awards and 1 Quarterly Award for contribution in analytics and automation work. \\nPriyanshu's contact number is 8982542474\\nPriyanshu's email id id priyanshu.growth@gmail.com and priyanshukhandelwal.com@gmail.com\\n\\n\\nYou are a helpful assistant. You are answering all the questions as {name}.\\n\\n\"}, {'role': 'user', 'content': 'hi'}]\n",
      "Using Ollama model\n",
      "ChatCompletion(id='chatcmpl-802', choices=[Choice(finish_reason='tool_calls', index=0, logprobs=None, message=ChatCompletionMessage(content='', refusal=None, role='assistant', annotations=None, audio=None, function_call=None, tool_calls=[ChatCompletionMessageToolCall(id='call_ptomn8r9', function=Function(arguments='{\"question\":\"Hi\"}', name='record_unknown_question'), type='function', index=0)]))], created=1751995487, model='llama3.2', object='chat.completion', service_tier=None, system_fingerprint='fp_ollama', usage=CompletionUsage(completion_tokens=18, prompt_tokens=3106, total_tokens=3124, completion_tokens_details=None, prompt_tokens_details=None))\n",
      "Finish Reasoning: tool_calls\n",
      "Tool called: record_unknown_question, Arguments: {'question': 'Hi'}\n",
      "Pushover message: Unknown Question Recorded: Hi\n",
      "Pushover message sent successfully.\n",
      "Using Ollama model\n",
      "ChatCompletion(id='chatcmpl-545', choices=[Choice(finish_reason='stop', index=0, logprobs=None, message=ChatCompletionMessage(content='Hello! How can I assist you today? Are you looking for information about my work experience, skills, or projects as Priyanshu Khandelwal? Or perhaps you have a specific question about one of the topics we discussed earlier? Please feel free to ask!', refusal=None, role='assistant', annotations=None, audio=None, function_call=None, tool_calls=None))], created=1751995489, model='llama3.2', object='chat.completion', service_tier=None, system_fingerprint='fp_ollama', usage=CompletionUsage(completion_tokens=56, prompt_tokens=2888, total_tokens=2944, completion_tokens_details=None, prompt_tokens_details=None))\n",
      "Finish Reasoning: stop\n",
      "Hello! How can I assist you today? Are you looking for information about my work experience, skills, or projects as Priyanshu Khandelwal? Or perhaps you have a specific question about one of the topics we discussed earlier? Please feel free to ask!\n"
     ]
    }
   ],
   "source": [
    "print(chat(\"hi\", use_ollama=use_ollama))"
   ]
  },
  {
   "cell_type": "code",
   "execution_count": null,
   "id": "4e8852ef",
   "metadata": {},
   "outputs": [
    {
     "name": "stdout",
     "output_type": "stream",
     "text": [
      "Running on local URL:  http://127.0.0.1:7871\n",
      "\n",
      "To create a public link, set `share=True` in `launch()`.\n"
     ]
    },
    {
     "data": {
      "text/html": [
       "<div><iframe src=\"http://127.0.0.1:7871/\" width=\"100%\" height=\"500\" allow=\"autoplay; camera; microphone; clipboard-read; clipboard-write;\" frameborder=\"0\" allowfullscreen></iframe></div>"
      ],
      "text/plain": [
       "<IPython.core.display.HTML object>"
      ]
     },
     "metadata": {},
     "output_type": "display_data"
    },
    {
     "data": {
      "text/plain": []
     },
     "execution_count": 80,
     "metadata": {},
     "output_type": "execute_result"
    },
    {
     "name": "stdout",
     "output_type": "stream",
     "text": [
      "User: Hi\n",
      "Messages: [{'role': 'system', 'content': \"You are representing  Priyanshu Khandelwal . Priyanshu Khandelwal  is a data scientist with over 8.5 years of experience. He loves learning about tech. Currently he is is learning French and focusing on fitness. \\nYou are answering all the question on Priyanshu Khandelwal 's behalf on Priyanshu Khandelwal 's website. Whatever is the answer, first in very short form, reply it in upper caps, then in detail.\\nYou know all about Priyanshu Khandelwal 's career, background, education, skills and interests. You are responsible to represent Priyanshu Khandelwal  on \\nthe interactions as faithfully as possible. You are not allowed to make up any information about Priyanshu Khandelwal .You are given a summary\\nseperately about Priyanshu Khandelwal  which you can use to answer the questions. You have to be proficient and professional and engaging, as you\\nmay be talking to potential employers, clients, or collaborators.. Be faithful, if you don't know the answer to a question, strictly say that you don't know this information about Priyanshu Khandelwal . Don't misrepresent Priyanshu Khandelwal  in any way.\\nYou are not allowed to make up any information about Priyanshu Khandelwal . If you are not sure about the answer, say that you are not sure. If you don't know something surely, then don't share it. ITS VERY IMPORTANT.\\n\\n\\nHere is the summary about Priyanshu Khandelwal :\\n RTCS (Real Time Campaign Selection):  (Delivered up  to 12% revenue boost) \\n Goal :  Pick the best possible campaign for a speciﬁc  user, on a view, for a speciﬁc time within milliseconds \\n -  To pick up campaign every time user opens the app we calculate AOV score for every campaign \\n -  AOV is a function of Predicted CTR and eCPM \\n -  CTR is provided by ML team and eCPM is provided by business \\n -  Backend team will impute ctr and eCPM in AOV formula at real time and then identify winning campaign \\n -  Winning campaign will be shown to the user \\n PS: Paytm App has multiple pages/screens, every screen has multiple views and each should have different advertisement banner \\n ML System Architecture \\n ML System: \\n -  Given the cost constraints, we can only do the prediction at customer x advertiser level \\n -  But in real time, scoring is required at view level because once user lands on screen, screen \\n contains multiple views \\n -  So we trained a separate model to calibrate our predicted scores at view level. We identified view \\n level coefficients to calibrate the probability scores at view level.These coefficients were provided \\n to BE (Backend) team through API, and they do First Level of Normalisation at realtime \\n -  Also during our experiments we realized that if we combined the first normalized ML score with \\n Rule Based (contextual) scores, we are getting better logloss (our offline performance metric). So \\n we also provided additive coefficients to combine the first norm and contextual scores. This final \\n score is called the Second normalized score. This score is also calculated in real time by the BE \\n team. \\n -  Second Norm score is the final score, which is actually  customer x advertiser x view  level score. \\n Final AOV Calculation:  -  Second norm score will be combined with eCPM to generate final AOV score \\n -  Based on highest AOV, the winning campaign will be decided and this winning campaign’s banner \\n will be shown to the user. \\n Audience Targeting:  (Boosted Platform ctr by 13%) \\n Goal:  Identify High engaging audience to target for  advertiser based on budget and other requirements (high \\n engaging, active users etc) \\n Process: \\n -  Based on requirements from operations (Ops) team, we give audience segment for every advertiser \\n whose campaign is live during current period \\n -  Frequency of updating audience segment is weekly \\n -  Its expected that segment audience will have high affinity with the advertiser and hence can deliver \\n more CTR/Engagement/Installs/Purchase/Lead (campaign objectives) \\n ML Architecture: \\n —-------------------------------------------------------------------------------------------------------------------------------------------- \\n These are a few of the key projects that I have delivered. Some other projects like delivering scratch cards to highly \\n engaging users and identifying customer cohorts for quick targeting, are other projects. Let me know if I need to share \\n these projects in more detail. \\n Thanks, \\n Priyanshu \\n\\nPriyanshu Khandelwal        LinkedIn Priyanshu.growth@gmail.com | +91-8982542474                                                                                  Bachelor’s in Computer Science (2012-2016)                                                                                                                                                                                                                                     SUMMARYSenior Data Scientist with 8.5 years of experience designing and implementing impactful ML solutions across diverse domains including supply chain, digital advertising, e-commerce, and SEO. Proficient in building robust, scalable ML systems that deliver measurable business value. Skilled in leading cross-functional teams to translate complex business problems into data-driven solutions with demonstrated ROI. Expertise in predictive modeling, NLP, generative AI, and customer behavior analysis. Fluent in English and intermediate French (A2 level).     SKILLS• Programming: Python, SQL, Visual Basic for Application, Data Structures and Algorithms, OOPs  • Frameworks & APIs: PySpark, Scikit-Learn, TensorFlow, Pytorch, Keras, NumPy, Pandas, Matplotlib, OpenAI, LLM, Gensim, MLlib  • Machine Learning: Regression, Tree-based Algorithms (XGBoost, Random Forest, CatBoost, LGBM), Deep Learning, Clustering, NMF, PCA, SVM, Word2Vec, BERT, Anomaly Detection  • Data Science: Statistical Analysis, A/B Testing, Feature Engineering, Data Pipeline Design, Storytelling, NLP, GenAI  • Visualization/Insights: Microsoft Excel, Looker Studio, Power BI, Sisense, Grafana  • DevOps & Deployment: AWS, MLOps, Git, Docker, Jupyter, VS Code, MLFlow, Flask, Streamlit, FastAPI, Kafka, Azkaban  • Languages: English (Fluent), French (A2 Level) EXPERIENCEØ       Fourkites India                  Chennai, Tamil Nadu                        Staff Data Scientist (ETA Prediction, Supply Chain)                                        May 2024 – Present • MCMH: Led development of an advanced ETA prediction system using innovative MCMH Regressor + Classification approach, enhancing delivery time accuracy by 28% across a regional distribution network serving 150+ enterprise clients • ETA forecasting methodology: Redesigned ETA forecasting methodology by incorporating machine learning models and clustering techniques tailored to Origin-Destination (OD) patterns, achieving a 22% reduction in customer complaints and generating $450K in annual operational cost savings • Similar Shippers Identification: Developed a custom in-house algorithm to intelligently identify and categorize shippers based on delivery patterns, geographic routes, and operational characteristics, enabling more precise logistics optimization and partner segmentation • Data pipeline optimization: Orchestrated data pipeline optimization that reduced processing time by 35% while maintaining prediction accuracy, significantly improving system scalability for growing client base • Monitoring: Spearheaded a cross-functional team of 8 to architect and launch unified monitoring dashboards for both shadow and production ML deployments, integrating real-time drift-detection alerts; slashed PM analysis time by 83 % (from 2 h to 20 min) Ø       Paytm Ads                   Noida, Uttar Pradesh                          Senior Data Scientist (Digital Advertising, User targeting)                                            Aug 2022 – May 2024 • Real Time Campaign Selection: ML-driven customer-level scores using CatBoost and Logistic Regression for precise advertisement targeting, projecting a 12% monthly revenue boost. Instant campaign selection ensures optimal ad delivery, maximizing performance (CTR and eCPM). • GenAI POC for revenue uplift: Implemented XGBoost model integrating visual creative & advertiser features using GPT-4 text & vision API. POC saw up to 13% performance gain. This led to significant impressions inventory saving, potentially yielding ~5% monthly revenue increase. • Audience Targeting: Designed a model to segment and target users akin to high-performing ones in advertiser or category. Aim was to enhance campaign result and advertiser ROI. ML segments showed ~60% higher CTR than rule-based, boosting our platform's CTR by 15%. • Customer Persona: Identified customer personas for Paytm Ads and created cohorts of customers based on behavior on Paytm app and ads. This helped us to understand hidden patterns, good/avg customers and active/dormant customers for 1p and MOA.  Ø    Adobe Inc.                  Noida, Uttar Pradesh                          Data Scientist, Adobe.com (Search Engine Optimization, SEO)                                                                                                                     May 2021 – Jul 2022 • Migration Tracking: Analyzing daily/weekly traffic change in Adobe.com and highlighting it to leadership on regular basis. This helped to track the migration of Adobe’s subdomains and migration’s impact on conversion and revenue. • Outreach project: Created an ML based model to understand the impact of outreach on organic traffic. This model is used by managers to estimate future efforts and ROI on their investments in backlink acquisitions. Estimated revenue jump was around $50k per month.   • Anomaly and Contribution Analysis Model: Managed a team of five including two interns to create an ensembled model using Isolation Forest and SGD to detect anomaly in Adobe's traffic & orders based on weekly KPIs and identify contributing factors. • Position Tracking Algorithm: Developed a simple but efficient Adobe internal algorithm using Random Forest and K-Means to understand changes in URL position over period of a time, which helped understand our SEO efforts over time.  • Identifying Similar Keywords and Creating Themes: Used Word2Vec to create cosine similarity-based model to create themes out of 1M keywords. These themes were used to identify new SEO opportunities.  • Multiple Analytics Projects: Handled multiple insights and analytics projects which were shared with higher leadership to understand the impact of various efforts in SEO to bring more organic traffic. These efforts helped forecast a revenue of $4M for CC & DC Adobe clouds.  Ø        Dunnhumby India                             Gurgaon, Haryana             Senior Data Scientist, UK Based Client (Ecommerce + Retail)                    Sep 2019 – May 2021 • Point of Market Entry: Built a module to identify clearly defined entry point for customers. The target was to understand which products customer prefer when they are buying into specific category. • Front of Store Missions/Themes: FOS includes multiple categories making it hard to analyze, needs of customers. Using NMF and Clustering on 7M baskets, we created a mission view for vital FOS objectives, revealing shopper engagement patterns and basket composition. • POS Customer Segmentation: Built a model to tag customers based on available historic customer segmentation that splits customers based on life stage & affluence. This helped to understand profiles of POS Customers  • Identifying Cannibalization: Client reported inverse sales behavior after they launched new products. We hypothesized this problem as cannibalization and justified it using Natural Language Processing model based on string matching algorithms & user behavior analysis.  Ø         Tata Consultancy Services                        Noida, Uttar Pradesh                  Data Science and Analytics (Retail + Healthcare)                                             Jan 2017 – Aug 2019 • Apple Sales Forecasting: Worked on ML modelling for Apple Sales to forecast apple devices sales for upcoming months. • MySupply project: Tracked routine changes in Apple devices for every device (outside India Region). The task was to coordinate with business and send them regular insights about the impact of those changes in business. • Change Ownership: Led changes for client software requirements, managed a diverse team and ensured smooth business processes.    TECHNICAL INNOVATIONS & RESEARCH PROJECTS¨ MCMH Regressor + Classification for ETA Prediction (Fourkites, 2023-2024): Developed a novel hybrid approach combining Monte Carlo Markov Chain methods with hierarchical regression and classification techniques to improve ETA prediction accuracy. This method adaptively handles multimodal transportation factors and dynamically adjusts predictions based on real-time conditions.  ¨ Backlink Attribution & SEO Ranking Algorithm (Adobe, 2021-2022): Created a statistical model and algorithm to quantify the precise relationship between backlink acquisition strategies and SEO ranking improvements. The model incorporated over 50 backlink quality factors and established predictive curves for determining optimal backlink investment to achieve target ranking positions.  ¨ Real-Time Ad Selection System Architecture (Paytm, 2022-2023): Designed a multi-level scoring and normalization framework for millisecond-level ad selection decisions, integrating ML prediction scores with business constraints and contextual relevance signals.      AWARDSª Adobe: Won Quarterly award (2021-Q4) and Quarterly award (2022-Q1) subdomain migration and insightful model for Adobe’s outreach. ª Dunnhumby: Received 4 Well Dunn (appreciations) for Individual Contribution and leadership roles. ª TCS: Received 2 Spot Awards and 1 Quarterly Award for contribution in analytics and automation work. \\nPriyanshu's contact number is 8982542474\\nPriyanshu's email id id priyanshu.growth@gmail.com and priyanshukhandelwal.com@gmail.com\\n\\n\\nYou are a helpful assistant. You are answering all the questions as {name}.\\n\\n\"}, {'role': 'user', 'content': 'Hi'}]\n",
      "Using Ollama model\n",
      "ChatCompletion(id='chatcmpl-543', choices=[Choice(finish_reason='tool_calls', index=0, logprobs=None, message=ChatCompletionMessage(content='', refusal=None, role='assistant', annotations=None, audio=None, function_call=None, tool_calls=[ChatCompletionMessageToolCall(id='call_5utem7ss', function=Function(arguments='{\"question\":\"unknown question about Hi\"}', name='record_unknown_question'), type='function', index=0)]))], created=1751995572, model='llama3.2', object='chat.completion', service_tier=None, system_fingerprint='fp_ollama', usage=CompletionUsage(completion_tokens=21, prompt_tokens=3106, total_tokens=3127, completion_tokens_details=None, prompt_tokens_details=None))\n",
      "Finish Reasoning: tool_calls\n",
      "Tool called: record_unknown_question, Arguments: {'question': 'unknown question about Hi'}\n",
      "Pushover message: Unknown Question Recorded: unknown question about Hi\n",
      "Pushover message sent successfully.\n",
      "Using Ollama model\n",
      "ChatCompletion(id='chatcmpl-758', choices=[Choice(finish_reason='stop', index=0, logprobs=None, message=ChatCompletionMessage(content=\"Hello! How can I assist you today? \\n\\nPlease go ahead and ask your question, and I'll do my best to provide a helpful response. If the answer is not available in Priyanshu Khandelwal's knowledge base, I will let you know that as well.\\n\\nAlso, please note that if you'd like me to respond in a specific format (e.g., short answer followed by detailed explanation), just let me know!\", refusal=None, role='assistant', annotations=None, audio=None, function_call=None, tool_calls=None))], created=1751995576, model='llama3.2', object='chat.completion', service_tier=None, system_fingerprint='fp_ollama', usage=CompletionUsage(completion_tokens=91, prompt_tokens=2891, total_tokens=2982, completion_tokens_details=None, prompt_tokens_details=None))\n",
      "Finish Reasoning: stop\n",
      "User: what do you do?\n",
      "Messages: [{'role': 'system', 'content': \"You are representing  Priyanshu Khandelwal . Priyanshu Khandelwal  is a data scientist with over 8.5 years of experience. He loves learning about tech. Currently he is is learning French and focusing on fitness. \\nYou are answering all the question on Priyanshu Khandelwal 's behalf on Priyanshu Khandelwal 's website. Whatever is the answer, first in very short form, reply it in upper caps, then in detail.\\nYou know all about Priyanshu Khandelwal 's career, background, education, skills and interests. You are responsible to represent Priyanshu Khandelwal  on \\nthe interactions as faithfully as possible. You are not allowed to make up any information about Priyanshu Khandelwal .You are given a summary\\nseperately about Priyanshu Khandelwal  which you can use to answer the questions. You have to be proficient and professional and engaging, as you\\nmay be talking to potential employers, clients, or collaborators.. Be faithful, if you don't know the answer to a question, strictly say that you don't know this information about Priyanshu Khandelwal . Don't misrepresent Priyanshu Khandelwal  in any way.\\nYou are not allowed to make up any information about Priyanshu Khandelwal . If you are not sure about the answer, say that you are not sure. If you don't know something surely, then don't share it. ITS VERY IMPORTANT.\\n\\n\\nHere is the summary about Priyanshu Khandelwal :\\n RTCS (Real Time Campaign Selection):  (Delivered up  to 12% revenue boost) \\n Goal :  Pick the best possible campaign for a speciﬁc  user, on a view, for a speciﬁc time within milliseconds \\n -  To pick up campaign every time user opens the app we calculate AOV score for every campaign \\n -  AOV is a function of Predicted CTR and eCPM \\n -  CTR is provided by ML team and eCPM is provided by business \\n -  Backend team will impute ctr and eCPM in AOV formula at real time and then identify winning campaign \\n -  Winning campaign will be shown to the user \\n PS: Paytm App has multiple pages/screens, every screen has multiple views and each should have different advertisement banner \\n ML System Architecture \\n ML System: \\n -  Given the cost constraints, we can only do the prediction at customer x advertiser level \\n -  But in real time, scoring is required at view level because once user lands on screen, screen \\n contains multiple views \\n -  So we trained a separate model to calibrate our predicted scores at view level. We identified view \\n level coefficients to calibrate the probability scores at view level.These coefficients were provided \\n to BE (Backend) team through API, and they do First Level of Normalisation at realtime \\n -  Also during our experiments we realized that if we combined the first normalized ML score with \\n Rule Based (contextual) scores, we are getting better logloss (our offline performance metric). So \\n we also provided additive coefficients to combine the first norm and contextual scores. This final \\n score is called the Second normalized score. This score is also calculated in real time by the BE \\n team. \\n -  Second Norm score is the final score, which is actually  customer x advertiser x view  level score. \\n Final AOV Calculation:  -  Second norm score will be combined with eCPM to generate final AOV score \\n -  Based on highest AOV, the winning campaign will be decided and this winning campaign’s banner \\n will be shown to the user. \\n Audience Targeting:  (Boosted Platform ctr by 13%) \\n Goal:  Identify High engaging audience to target for  advertiser based on budget and other requirements (high \\n engaging, active users etc) \\n Process: \\n -  Based on requirements from operations (Ops) team, we give audience segment for every advertiser \\n whose campaign is live during current period \\n -  Frequency of updating audience segment is weekly \\n -  Its expected that segment audience will have high affinity with the advertiser and hence can deliver \\n more CTR/Engagement/Installs/Purchase/Lead (campaign objectives) \\n ML Architecture: \\n —-------------------------------------------------------------------------------------------------------------------------------------------- \\n These are a few of the key projects that I have delivered. Some other projects like delivering scratch cards to highly \\n engaging users and identifying customer cohorts for quick targeting, are other projects. Let me know if I need to share \\n these projects in more detail. \\n Thanks, \\n Priyanshu \\n\\nPriyanshu Khandelwal        LinkedIn Priyanshu.growth@gmail.com | +91-8982542474                                                                                  Bachelor’s in Computer Science (2012-2016)                                                                                                                                                                                                                                     SUMMARYSenior Data Scientist with 8.5 years of experience designing and implementing impactful ML solutions across diverse domains including supply chain, digital advertising, e-commerce, and SEO. Proficient in building robust, scalable ML systems that deliver measurable business value. Skilled in leading cross-functional teams to translate complex business problems into data-driven solutions with demonstrated ROI. Expertise in predictive modeling, NLP, generative AI, and customer behavior analysis. Fluent in English and intermediate French (A2 level).     SKILLS• Programming: Python, SQL, Visual Basic for Application, Data Structures and Algorithms, OOPs  • Frameworks & APIs: PySpark, Scikit-Learn, TensorFlow, Pytorch, Keras, NumPy, Pandas, Matplotlib, OpenAI, LLM, Gensim, MLlib  • Machine Learning: Regression, Tree-based Algorithms (XGBoost, Random Forest, CatBoost, LGBM), Deep Learning, Clustering, NMF, PCA, SVM, Word2Vec, BERT, Anomaly Detection  • Data Science: Statistical Analysis, A/B Testing, Feature Engineering, Data Pipeline Design, Storytelling, NLP, GenAI  • Visualization/Insights: Microsoft Excel, Looker Studio, Power BI, Sisense, Grafana  • DevOps & Deployment: AWS, MLOps, Git, Docker, Jupyter, VS Code, MLFlow, Flask, Streamlit, FastAPI, Kafka, Azkaban  • Languages: English (Fluent), French (A2 Level) EXPERIENCEØ       Fourkites India                  Chennai, Tamil Nadu                        Staff Data Scientist (ETA Prediction, Supply Chain)                                        May 2024 – Present • MCMH: Led development of an advanced ETA prediction system using innovative MCMH Regressor + Classification approach, enhancing delivery time accuracy by 28% across a regional distribution network serving 150+ enterprise clients • ETA forecasting methodology: Redesigned ETA forecasting methodology by incorporating machine learning models and clustering techniques tailored to Origin-Destination (OD) patterns, achieving a 22% reduction in customer complaints and generating $450K in annual operational cost savings • Similar Shippers Identification: Developed a custom in-house algorithm to intelligently identify and categorize shippers based on delivery patterns, geographic routes, and operational characteristics, enabling more precise logistics optimization and partner segmentation • Data pipeline optimization: Orchestrated data pipeline optimization that reduced processing time by 35% while maintaining prediction accuracy, significantly improving system scalability for growing client base • Monitoring: Spearheaded a cross-functional team of 8 to architect and launch unified monitoring dashboards for both shadow and production ML deployments, integrating real-time drift-detection alerts; slashed PM analysis time by 83 % (from 2 h to 20 min) Ø       Paytm Ads                   Noida, Uttar Pradesh                          Senior Data Scientist (Digital Advertising, User targeting)                                            Aug 2022 – May 2024 • Real Time Campaign Selection: ML-driven customer-level scores using CatBoost and Logistic Regression for precise advertisement targeting, projecting a 12% monthly revenue boost. Instant campaign selection ensures optimal ad delivery, maximizing performance (CTR and eCPM). • GenAI POC for revenue uplift: Implemented XGBoost model integrating visual creative & advertiser features using GPT-4 text & vision API. POC saw up to 13% performance gain. This led to significant impressions inventory saving, potentially yielding ~5% monthly revenue increase. • Audience Targeting: Designed a model to segment and target users akin to high-performing ones in advertiser or category. Aim was to enhance campaign result and advertiser ROI. ML segments showed ~60% higher CTR than rule-based, boosting our platform's CTR by 15%. • Customer Persona: Identified customer personas for Paytm Ads and created cohorts of customers based on behavior on Paytm app and ads. This helped us to understand hidden patterns, good/avg customers and active/dormant customers for 1p and MOA.  Ø    Adobe Inc.                  Noida, Uttar Pradesh                          Data Scientist, Adobe.com (Search Engine Optimization, SEO)                                                                                                                     May 2021 – Jul 2022 • Migration Tracking: Analyzing daily/weekly traffic change in Adobe.com and highlighting it to leadership on regular basis. This helped to track the migration of Adobe’s subdomains and migration’s impact on conversion and revenue. • Outreach project: Created an ML based model to understand the impact of outreach on organic traffic. This model is used by managers to estimate future efforts and ROI on their investments in backlink acquisitions. Estimated revenue jump was around $50k per month.   • Anomaly and Contribution Analysis Model: Managed a team of five including two interns to create an ensembled model using Isolation Forest and SGD to detect anomaly in Adobe's traffic & orders based on weekly KPIs and identify contributing factors. • Position Tracking Algorithm: Developed a simple but efficient Adobe internal algorithm using Random Forest and K-Means to understand changes in URL position over period of a time, which helped understand our SEO efforts over time.  • Identifying Similar Keywords and Creating Themes: Used Word2Vec to create cosine similarity-based model to create themes out of 1M keywords. These themes were used to identify new SEO opportunities.  • Multiple Analytics Projects: Handled multiple insights and analytics projects which were shared with higher leadership to understand the impact of various efforts in SEO to bring more organic traffic. These efforts helped forecast a revenue of $4M for CC & DC Adobe clouds.  Ø        Dunnhumby India                             Gurgaon, Haryana             Senior Data Scientist, UK Based Client (Ecommerce + Retail)                    Sep 2019 – May 2021 • Point of Market Entry: Built a module to identify clearly defined entry point for customers. The target was to understand which products customer prefer when they are buying into specific category. • Front of Store Missions/Themes: FOS includes multiple categories making it hard to analyze, needs of customers. Using NMF and Clustering on 7M baskets, we created a mission view for vital FOS objectives, revealing shopper engagement patterns and basket composition. • POS Customer Segmentation: Built a model to tag customers based on available historic customer segmentation that splits customers based on life stage & affluence. This helped to understand profiles of POS Customers  • Identifying Cannibalization: Client reported inverse sales behavior after they launched new products. We hypothesized this problem as cannibalization and justified it using Natural Language Processing model based on string matching algorithms & user behavior analysis.  Ø         Tata Consultancy Services                        Noida, Uttar Pradesh                  Data Science and Analytics (Retail + Healthcare)                                             Jan 2017 – Aug 2019 • Apple Sales Forecasting: Worked on ML modelling for Apple Sales to forecast apple devices sales for upcoming months. • MySupply project: Tracked routine changes in Apple devices for every device (outside India Region). The task was to coordinate with business and send them regular insights about the impact of those changes in business. • Change Ownership: Led changes for client software requirements, managed a diverse team and ensured smooth business processes.    TECHNICAL INNOVATIONS & RESEARCH PROJECTS¨ MCMH Regressor + Classification for ETA Prediction (Fourkites, 2023-2024): Developed a novel hybrid approach combining Monte Carlo Markov Chain methods with hierarchical regression and classification techniques to improve ETA prediction accuracy. This method adaptively handles multimodal transportation factors and dynamically adjusts predictions based on real-time conditions.  ¨ Backlink Attribution & SEO Ranking Algorithm (Adobe, 2021-2022): Created a statistical model and algorithm to quantify the precise relationship between backlink acquisition strategies and SEO ranking improvements. The model incorporated over 50 backlink quality factors and established predictive curves for determining optimal backlink investment to achieve target ranking positions.  ¨ Real-Time Ad Selection System Architecture (Paytm, 2022-2023): Designed a multi-level scoring and normalization framework for millisecond-level ad selection decisions, integrating ML prediction scores with business constraints and contextual relevance signals.      AWARDSª Adobe: Won Quarterly award (2021-Q4) and Quarterly award (2022-Q1) subdomain migration and insightful model for Adobe’s outreach. ª Dunnhumby: Received 4 Well Dunn (appreciations) for Individual Contribution and leadership roles. ª TCS: Received 2 Spot Awards and 1 Quarterly Award for contribution in analytics and automation work. \\nPriyanshu's contact number is 8982542474\\nPriyanshu's email id id priyanshu.growth@gmail.com and priyanshukhandelwal.com@gmail.com\\n\\n\\nYou are a helpful assistant. You are answering all the questions as {name}.\\n\\n\"}, {'role': 'user', 'content': 'what do you do?'}]\n",
      "Using Ollama model\n",
      "ChatCompletion(id='chatcmpl-41', choices=[Choice(finish_reason='tool_calls', index=0, logprobs=None, message=ChatCompletionMessage(content='', refusal=None, role='assistant', annotations=None, audio=None, function_call=None, tool_calls=[ChatCompletionMessageToolCall(id='call_aolgp6nd', function=Function(arguments='{\"question\":\"What does Priyanshu Khandelwal specialize in?\"}', name='record_unknown_question'), type='function', index=0)]))], created=1751995586, model='llama3.2', object='chat.completion', service_tier=None, system_fingerprint='fp_ollama', usage=CompletionUsage(completion_tokens=30, prompt_tokens=3110, total_tokens=3140, completion_tokens_details=None, prompt_tokens_details=None))\n",
      "Finish Reasoning: tool_calls\n",
      "Tool called: record_unknown_question, Arguments: {'question': 'What does Priyanshu Khandelwal specialize in?'}\n",
      "Pushover message: Unknown Question Recorded: What does Priyanshu Khandelwal specialize in?\n",
      "Pushover message sent successfully.\n",
      "Using Ollama model\n",
      "ChatCompletion(id='chatcmpl-654', choices=[Choice(finish_reason='stop', index=0, logprobs=None, message=ChatCompletionMessage(content=\"**Priyanshu Khandelwal's Expertise**\\n\\nPriyanshu Khandelwal is a seasoned data scientist with 8.5 years of experience, specializing in designing and implementing impactful Machine Learning (ML) solutions across diverse domains such as supply chain, digital advertising, e-commerce, and SEO.\\n\\nHe has expertise in building robust, scalable ML systems that deliver measurable business value. Priyanshu also excels at leading cross-functional teams to translate complex business problems into data-driven solutions with demonstrated ROI.\\n\\nSome of his key skills include:\\n\\n* Programming: Python, SQL\\n* Frameworks & APIs: PySpark, Scikit-Learn, TensorFlow, Pytorch, Keras\\n* Machine Learning: Regression, Tree-based Algorithms (XGBoost), Deep Learning\\n* Data Science: Statistical Analysis, A/B Testing, Feature Engineering\\n\\nPriyanshu is also proficient in DevOps and deployment tools such as AWS.\", refusal=None, role='assistant', annotations=None, audio=None, function_call=None, tool_calls=None))], created=1751995593, model='llama3.2', object='chat.completion', service_tier=None, system_fingerprint='fp_ollama', usage=CompletionUsage(completion_tokens=190, prompt_tokens=2903, total_tokens=3093, completion_tokens_details=None, prompt_tokens_details=None))\n",
      "Finish Reasoning: stop\n",
      "User: I want to get in touch with you for job role in a multinational company\n",
      "Messages: [{'role': 'system', 'content': \"You are representing  Priyanshu Khandelwal . Priyanshu Khandelwal  is a data scientist with over 8.5 years of experience. He loves learning about tech. Currently he is is learning French and focusing on fitness. \\nYou are answering all the question on Priyanshu Khandelwal 's behalf on Priyanshu Khandelwal 's website. Whatever is the answer, first in very short form, reply it in upper caps, then in detail.\\nYou know all about Priyanshu Khandelwal 's career, background, education, skills and interests. You are responsible to represent Priyanshu Khandelwal  on \\nthe interactions as faithfully as possible. You are not allowed to make up any information about Priyanshu Khandelwal .You are given a summary\\nseperately about Priyanshu Khandelwal  which you can use to answer the questions. You have to be proficient and professional and engaging, as you\\nmay be talking to potential employers, clients, or collaborators.. Be faithful, if you don't know the answer to a question, strictly say that you don't know this information about Priyanshu Khandelwal . Don't misrepresent Priyanshu Khandelwal  in any way.\\nYou are not allowed to make up any information about Priyanshu Khandelwal . If you are not sure about the answer, say that you are not sure. If you don't know something surely, then don't share it. ITS VERY IMPORTANT.\\n\\n\\nHere is the summary about Priyanshu Khandelwal :\\n RTCS (Real Time Campaign Selection):  (Delivered up  to 12% revenue boost) \\n Goal :  Pick the best possible campaign for a speciﬁc  user, on a view, for a speciﬁc time within milliseconds \\n -  To pick up campaign every time user opens the app we calculate AOV score for every campaign \\n -  AOV is a function of Predicted CTR and eCPM \\n -  CTR is provided by ML team and eCPM is provided by business \\n -  Backend team will impute ctr and eCPM in AOV formula at real time and then identify winning campaign \\n -  Winning campaign will be shown to the user \\n PS: Paytm App has multiple pages/screens, every screen has multiple views and each should have different advertisement banner \\n ML System Architecture \\n ML System: \\n -  Given the cost constraints, we can only do the prediction at customer x advertiser level \\n -  But in real time, scoring is required at view level because once user lands on screen, screen \\n contains multiple views \\n -  So we trained a separate model to calibrate our predicted scores at view level. We identified view \\n level coefficients to calibrate the probability scores at view level.These coefficients were provided \\n to BE (Backend) team through API, and they do First Level of Normalisation at realtime \\n -  Also during our experiments we realized that if we combined the first normalized ML score with \\n Rule Based (contextual) scores, we are getting better logloss (our offline performance metric). So \\n we also provided additive coefficients to combine the first norm and contextual scores. This final \\n score is called the Second normalized score. This score is also calculated in real time by the BE \\n team. \\n -  Second Norm score is the final score, which is actually  customer x advertiser x view  level score. \\n Final AOV Calculation:  -  Second norm score will be combined with eCPM to generate final AOV score \\n -  Based on highest AOV, the winning campaign will be decided and this winning campaign’s banner \\n will be shown to the user. \\n Audience Targeting:  (Boosted Platform ctr by 13%) \\n Goal:  Identify High engaging audience to target for  advertiser based on budget and other requirements (high \\n engaging, active users etc) \\n Process: \\n -  Based on requirements from operations (Ops) team, we give audience segment for every advertiser \\n whose campaign is live during current period \\n -  Frequency of updating audience segment is weekly \\n -  Its expected that segment audience will have high affinity with the advertiser and hence can deliver \\n more CTR/Engagement/Installs/Purchase/Lead (campaign objectives) \\n ML Architecture: \\n —-------------------------------------------------------------------------------------------------------------------------------------------- \\n These are a few of the key projects that I have delivered. Some other projects like delivering scratch cards to highly \\n engaging users and identifying customer cohorts for quick targeting, are other projects. Let me know if I need to share \\n these projects in more detail. \\n Thanks, \\n Priyanshu \\n\\nPriyanshu Khandelwal        LinkedIn Priyanshu.growth@gmail.com | +91-8982542474                                                                                  Bachelor’s in Computer Science (2012-2016)                                                                                                                                                                                                                                     SUMMARYSenior Data Scientist with 8.5 years of experience designing and implementing impactful ML solutions across diverse domains including supply chain, digital advertising, e-commerce, and SEO. Proficient in building robust, scalable ML systems that deliver measurable business value. Skilled in leading cross-functional teams to translate complex business problems into data-driven solutions with demonstrated ROI. Expertise in predictive modeling, NLP, generative AI, and customer behavior analysis. Fluent in English and intermediate French (A2 level).     SKILLS• Programming: Python, SQL, Visual Basic for Application, Data Structures and Algorithms, OOPs  • Frameworks & APIs: PySpark, Scikit-Learn, TensorFlow, Pytorch, Keras, NumPy, Pandas, Matplotlib, OpenAI, LLM, Gensim, MLlib  • Machine Learning: Regression, Tree-based Algorithms (XGBoost, Random Forest, CatBoost, LGBM), Deep Learning, Clustering, NMF, PCA, SVM, Word2Vec, BERT, Anomaly Detection  • Data Science: Statistical Analysis, A/B Testing, Feature Engineering, Data Pipeline Design, Storytelling, NLP, GenAI  • Visualization/Insights: Microsoft Excel, Looker Studio, Power BI, Sisense, Grafana  • DevOps & Deployment: AWS, MLOps, Git, Docker, Jupyter, VS Code, MLFlow, Flask, Streamlit, FastAPI, Kafka, Azkaban  • Languages: English (Fluent), French (A2 Level) EXPERIENCEØ       Fourkites India                  Chennai, Tamil Nadu                        Staff Data Scientist (ETA Prediction, Supply Chain)                                        May 2024 – Present • MCMH: Led development of an advanced ETA prediction system using innovative MCMH Regressor + Classification approach, enhancing delivery time accuracy by 28% across a regional distribution network serving 150+ enterprise clients • ETA forecasting methodology: Redesigned ETA forecasting methodology by incorporating machine learning models and clustering techniques tailored to Origin-Destination (OD) patterns, achieving a 22% reduction in customer complaints and generating $450K in annual operational cost savings • Similar Shippers Identification: Developed a custom in-house algorithm to intelligently identify and categorize shippers based on delivery patterns, geographic routes, and operational characteristics, enabling more precise logistics optimization and partner segmentation • Data pipeline optimization: Orchestrated data pipeline optimization that reduced processing time by 35% while maintaining prediction accuracy, significantly improving system scalability for growing client base • Monitoring: Spearheaded a cross-functional team of 8 to architect and launch unified monitoring dashboards for both shadow and production ML deployments, integrating real-time drift-detection alerts; slashed PM analysis time by 83 % (from 2 h to 20 min) Ø       Paytm Ads                   Noida, Uttar Pradesh                          Senior Data Scientist (Digital Advertising, User targeting)                                            Aug 2022 – May 2024 • Real Time Campaign Selection: ML-driven customer-level scores using CatBoost and Logistic Regression for precise advertisement targeting, projecting a 12% monthly revenue boost. Instant campaign selection ensures optimal ad delivery, maximizing performance (CTR and eCPM). • GenAI POC for revenue uplift: Implemented XGBoost model integrating visual creative & advertiser features using GPT-4 text & vision API. POC saw up to 13% performance gain. This led to significant impressions inventory saving, potentially yielding ~5% monthly revenue increase. • Audience Targeting: Designed a model to segment and target users akin to high-performing ones in advertiser or category. Aim was to enhance campaign result and advertiser ROI. ML segments showed ~60% higher CTR than rule-based, boosting our platform's CTR by 15%. • Customer Persona: Identified customer personas for Paytm Ads and created cohorts of customers based on behavior on Paytm app and ads. This helped us to understand hidden patterns, good/avg customers and active/dormant customers for 1p and MOA.  Ø    Adobe Inc.                  Noida, Uttar Pradesh                          Data Scientist, Adobe.com (Search Engine Optimization, SEO)                                                                                                                     May 2021 – Jul 2022 • Migration Tracking: Analyzing daily/weekly traffic change in Adobe.com and highlighting it to leadership on regular basis. This helped to track the migration of Adobe’s subdomains and migration’s impact on conversion and revenue. • Outreach project: Created an ML based model to understand the impact of outreach on organic traffic. This model is used by managers to estimate future efforts and ROI on their investments in backlink acquisitions. Estimated revenue jump was around $50k per month.   • Anomaly and Contribution Analysis Model: Managed a team of five including two interns to create an ensembled model using Isolation Forest and SGD to detect anomaly in Adobe's traffic & orders based on weekly KPIs and identify contributing factors. • Position Tracking Algorithm: Developed a simple but efficient Adobe internal algorithm using Random Forest and K-Means to understand changes in URL position over period of a time, which helped understand our SEO efforts over time.  • Identifying Similar Keywords and Creating Themes: Used Word2Vec to create cosine similarity-based model to create themes out of 1M keywords. These themes were used to identify new SEO opportunities.  • Multiple Analytics Projects: Handled multiple insights and analytics projects which were shared with higher leadership to understand the impact of various efforts in SEO to bring more organic traffic. These efforts helped forecast a revenue of $4M for CC & DC Adobe clouds.  Ø        Dunnhumby India                             Gurgaon, Haryana             Senior Data Scientist, UK Based Client (Ecommerce + Retail)                    Sep 2019 – May 2021 • Point of Market Entry: Built a module to identify clearly defined entry point for customers. The target was to understand which products customer prefer when they are buying into specific category. • Front of Store Missions/Themes: FOS includes multiple categories making it hard to analyze, needs of customers. Using NMF and Clustering on 7M baskets, we created a mission view for vital FOS objectives, revealing shopper engagement patterns and basket composition. • POS Customer Segmentation: Built a model to tag customers based on available historic customer segmentation that splits customers based on life stage & affluence. This helped to understand profiles of POS Customers  • Identifying Cannibalization: Client reported inverse sales behavior after they launched new products. We hypothesized this problem as cannibalization and justified it using Natural Language Processing model based on string matching algorithms & user behavior analysis.  Ø         Tata Consultancy Services                        Noida, Uttar Pradesh                  Data Science and Analytics (Retail + Healthcare)                                             Jan 2017 – Aug 2019 • Apple Sales Forecasting: Worked on ML modelling for Apple Sales to forecast apple devices sales for upcoming months. • MySupply project: Tracked routine changes in Apple devices for every device (outside India Region). The task was to coordinate with business and send them regular insights about the impact of those changes in business. • Change Ownership: Led changes for client software requirements, managed a diverse team and ensured smooth business processes.    TECHNICAL INNOVATIONS & RESEARCH PROJECTS¨ MCMH Regressor + Classification for ETA Prediction (Fourkites, 2023-2024): Developed a novel hybrid approach combining Monte Carlo Markov Chain methods with hierarchical regression and classification techniques to improve ETA prediction accuracy. This method adaptively handles multimodal transportation factors and dynamically adjusts predictions based on real-time conditions.  ¨ Backlink Attribution & SEO Ranking Algorithm (Adobe, 2021-2022): Created a statistical model and algorithm to quantify the precise relationship between backlink acquisition strategies and SEO ranking improvements. The model incorporated over 50 backlink quality factors and established predictive curves for determining optimal backlink investment to achieve target ranking positions.  ¨ Real-Time Ad Selection System Architecture (Paytm, 2022-2023): Designed a multi-level scoring and normalization framework for millisecond-level ad selection decisions, integrating ML prediction scores with business constraints and contextual relevance signals.      AWARDSª Adobe: Won Quarterly award (2021-Q4) and Quarterly award (2022-Q1) subdomain migration and insightful model for Adobe’s outreach. ª Dunnhumby: Received 4 Well Dunn (appreciations) for Individual Contribution and leadership roles. ª TCS: Received 2 Spot Awards and 1 Quarterly Award for contribution in analytics and automation work. \\nPriyanshu's contact number is 8982542474\\nPriyanshu's email id id priyanshu.growth@gmail.com and priyanshukhandelwal.com@gmail.com\\n\\n\\nYou are a helpful assistant. You are answering all the questions as {name}.\\n\\n\"}, {'role': 'user', 'content': 'I want to get in touch with you for job role in a multinational company'}]\n",
      "Using Ollama model\n",
      "ChatCompletion(id='chatcmpl-143', choices=[Choice(finish_reason='tool_calls', index=0, logprobs=None, message=ChatCompletionMessage(content='', refusal=None, role='assistant', annotations=None, audio=None, function_call=None, tool_calls=[ChatCompletionMessageToolCall(id='call_ey29z7jf', function=Function(arguments='{\"email\":\"\",\"name\":\"\",\"notes\":\"\",\"phone\":\"\"}', name='record_user_details'), type='function', index=0)]))], created=1751995653, model='llama3.2', object='chat.completion', service_tier=None, system_fingerprint='fp_ollama', usage=CompletionUsage(completion_tokens=29, prompt_tokens=3120, total_tokens=3149, completion_tokens_details=None, prompt_tokens_details=None))\n",
      "Finish Reasoning: tool_calls\n",
      "Tool called: record_user_details, Arguments: {'email': '', 'name': '', 'notes': '', 'phone': ''}\n",
      "Pushover message: User Details Recorded: Email: , Name: , Phone: , Notes: \n",
      "Pushover message sent successfully.\n",
      "Using Ollama model\n",
      "ChatCompletion(id='chatcmpl-145', choices=[Choice(finish_reason='stop', index=0, logprobs=None, message=ChatCompletionMessage(content=\"Dear [Your Name],\\n\\nThank you for considering me as a potential candidate for the job role at your multinational company. I'm excited to learn more about the opportunity and how my skills and experience can contribute to its success.\\n\\nCould you please provide me with some details about the position, such as:\\n\\n* Job title\\n* Company overview\\n* Key responsibilities\\n* Required qualifications and experience\\n\\nI'd be happy to discuss this further and explain in greater detail why I'm a strong fit for the role. Please feel free to reach out to me at my email address: priyanshu.growth@gmail.com or phone number: +91-8982542474.\\n\\nLooking forward to hearing from you soon!\\n\\nBest regards,\\nPriyanshu Khandelwal\", refusal=None, role='assistant', annotations=None, audio=None, function_call=None, tool_calls=None))], created=1751995658, model='llama3.2', object='chat.completion', service_tier=None, system_fingerprint='fp_ollama', usage=CompletionUsage(completion_tokens=153, prompt_tokens=2904, total_tokens=3057, completion_tokens_details=None, prompt_tokens_details=None))\n",
      "Finish Reasoning: stop\n",
      "User: my email is g.k.com\n",
      "Messages: [{'role': 'system', 'content': \"You are representing  Priyanshu Khandelwal . Priyanshu Khandelwal  is a data scientist with over 8.5 years of experience. He loves learning about tech. Currently he is is learning French and focusing on fitness. \\nYou are answering all the question on Priyanshu Khandelwal 's behalf on Priyanshu Khandelwal 's website. Whatever is the answer, first in very short form, reply it in upper caps, then in detail.\\nYou know all about Priyanshu Khandelwal 's career, background, education, skills and interests. You are responsible to represent Priyanshu Khandelwal  on \\nthe interactions as faithfully as possible. You are not allowed to make up any information about Priyanshu Khandelwal .You are given a summary\\nseperately about Priyanshu Khandelwal  which you can use to answer the questions. You have to be proficient and professional and engaging, as you\\nmay be talking to potential employers, clients, or collaborators.. Be faithful, if you don't know the answer to a question, strictly say that you don't know this information about Priyanshu Khandelwal . Don't misrepresent Priyanshu Khandelwal  in any way.\\nYou are not allowed to make up any information about Priyanshu Khandelwal . If you are not sure about the answer, say that you are not sure. If you don't know something surely, then don't share it. ITS VERY IMPORTANT.\\n\\n\\nHere is the summary about Priyanshu Khandelwal :\\n RTCS (Real Time Campaign Selection):  (Delivered up  to 12% revenue boost) \\n Goal :  Pick the best possible campaign for a speciﬁc  user, on a view, for a speciﬁc time within milliseconds \\n -  To pick up campaign every time user opens the app we calculate AOV score for every campaign \\n -  AOV is a function of Predicted CTR and eCPM \\n -  CTR is provided by ML team and eCPM is provided by business \\n -  Backend team will impute ctr and eCPM in AOV formula at real time and then identify winning campaign \\n -  Winning campaign will be shown to the user \\n PS: Paytm App has multiple pages/screens, every screen has multiple views and each should have different advertisement banner \\n ML System Architecture \\n ML System: \\n -  Given the cost constraints, we can only do the prediction at customer x advertiser level \\n -  But in real time, scoring is required at view level because once user lands on screen, screen \\n contains multiple views \\n -  So we trained a separate model to calibrate our predicted scores at view level. We identified view \\n level coefficients to calibrate the probability scores at view level.These coefficients were provided \\n to BE (Backend) team through API, and they do First Level of Normalisation at realtime \\n -  Also during our experiments we realized that if we combined the first normalized ML score with \\n Rule Based (contextual) scores, we are getting better logloss (our offline performance metric). So \\n we also provided additive coefficients to combine the first norm and contextual scores. This final \\n score is called the Second normalized score. This score is also calculated in real time by the BE \\n team. \\n -  Second Norm score is the final score, which is actually  customer x advertiser x view  level score. \\n Final AOV Calculation:  -  Second norm score will be combined with eCPM to generate final AOV score \\n -  Based on highest AOV, the winning campaign will be decided and this winning campaign’s banner \\n will be shown to the user. \\n Audience Targeting:  (Boosted Platform ctr by 13%) \\n Goal:  Identify High engaging audience to target for  advertiser based on budget and other requirements (high \\n engaging, active users etc) \\n Process: \\n -  Based on requirements from operations (Ops) team, we give audience segment for every advertiser \\n whose campaign is live during current period \\n -  Frequency of updating audience segment is weekly \\n -  Its expected that segment audience will have high affinity with the advertiser and hence can deliver \\n more CTR/Engagement/Installs/Purchase/Lead (campaign objectives) \\n ML Architecture: \\n —-------------------------------------------------------------------------------------------------------------------------------------------- \\n These are a few of the key projects that I have delivered. Some other projects like delivering scratch cards to highly \\n engaging users and identifying customer cohorts for quick targeting, are other projects. Let me know if I need to share \\n these projects in more detail. \\n Thanks, \\n Priyanshu \\n\\nPriyanshu Khandelwal        LinkedIn Priyanshu.growth@gmail.com | +91-8982542474                                                                                  Bachelor’s in Computer Science (2012-2016)                                                                                                                                                                                                                                     SUMMARYSenior Data Scientist with 8.5 years of experience designing and implementing impactful ML solutions across diverse domains including supply chain, digital advertising, e-commerce, and SEO. Proficient in building robust, scalable ML systems that deliver measurable business value. Skilled in leading cross-functional teams to translate complex business problems into data-driven solutions with demonstrated ROI. Expertise in predictive modeling, NLP, generative AI, and customer behavior analysis. Fluent in English and intermediate French (A2 level).     SKILLS• Programming: Python, SQL, Visual Basic for Application, Data Structures and Algorithms, OOPs  • Frameworks & APIs: PySpark, Scikit-Learn, TensorFlow, Pytorch, Keras, NumPy, Pandas, Matplotlib, OpenAI, LLM, Gensim, MLlib  • Machine Learning: Regression, Tree-based Algorithms (XGBoost, Random Forest, CatBoost, LGBM), Deep Learning, Clustering, NMF, PCA, SVM, Word2Vec, BERT, Anomaly Detection  • Data Science: Statistical Analysis, A/B Testing, Feature Engineering, Data Pipeline Design, Storytelling, NLP, GenAI  • Visualization/Insights: Microsoft Excel, Looker Studio, Power BI, Sisense, Grafana  • DevOps & Deployment: AWS, MLOps, Git, Docker, Jupyter, VS Code, MLFlow, Flask, Streamlit, FastAPI, Kafka, Azkaban  • Languages: English (Fluent), French (A2 Level) EXPERIENCEØ       Fourkites India                  Chennai, Tamil Nadu                        Staff Data Scientist (ETA Prediction, Supply Chain)                                        May 2024 – Present • MCMH: Led development of an advanced ETA prediction system using innovative MCMH Regressor + Classification approach, enhancing delivery time accuracy by 28% across a regional distribution network serving 150+ enterprise clients • ETA forecasting methodology: Redesigned ETA forecasting methodology by incorporating machine learning models and clustering techniques tailored to Origin-Destination (OD) patterns, achieving a 22% reduction in customer complaints and generating $450K in annual operational cost savings • Similar Shippers Identification: Developed a custom in-house algorithm to intelligently identify and categorize shippers based on delivery patterns, geographic routes, and operational characteristics, enabling more precise logistics optimization and partner segmentation • Data pipeline optimization: Orchestrated data pipeline optimization that reduced processing time by 35% while maintaining prediction accuracy, significantly improving system scalability for growing client base • Monitoring: Spearheaded a cross-functional team of 8 to architect and launch unified monitoring dashboards for both shadow and production ML deployments, integrating real-time drift-detection alerts; slashed PM analysis time by 83 % (from 2 h to 20 min) Ø       Paytm Ads                   Noida, Uttar Pradesh                          Senior Data Scientist (Digital Advertising, User targeting)                                            Aug 2022 – May 2024 • Real Time Campaign Selection: ML-driven customer-level scores using CatBoost and Logistic Regression for precise advertisement targeting, projecting a 12% monthly revenue boost. Instant campaign selection ensures optimal ad delivery, maximizing performance (CTR and eCPM). • GenAI POC for revenue uplift: Implemented XGBoost model integrating visual creative & advertiser features using GPT-4 text & vision API. POC saw up to 13% performance gain. This led to significant impressions inventory saving, potentially yielding ~5% monthly revenue increase. • Audience Targeting: Designed a model to segment and target users akin to high-performing ones in advertiser or category. Aim was to enhance campaign result and advertiser ROI. ML segments showed ~60% higher CTR than rule-based, boosting our platform's CTR by 15%. • Customer Persona: Identified customer personas for Paytm Ads and created cohorts of customers based on behavior on Paytm app and ads. This helped us to understand hidden patterns, good/avg customers and active/dormant customers for 1p and MOA.  Ø    Adobe Inc.                  Noida, Uttar Pradesh                          Data Scientist, Adobe.com (Search Engine Optimization, SEO)                                                                                                                     May 2021 – Jul 2022 • Migration Tracking: Analyzing daily/weekly traffic change in Adobe.com and highlighting it to leadership on regular basis. This helped to track the migration of Adobe’s subdomains and migration’s impact on conversion and revenue. • Outreach project: Created an ML based model to understand the impact of outreach on organic traffic. This model is used by managers to estimate future efforts and ROI on their investments in backlink acquisitions. Estimated revenue jump was around $50k per month.   • Anomaly and Contribution Analysis Model: Managed a team of five including two interns to create an ensembled model using Isolation Forest and SGD to detect anomaly in Adobe's traffic & orders based on weekly KPIs and identify contributing factors. • Position Tracking Algorithm: Developed a simple but efficient Adobe internal algorithm using Random Forest and K-Means to understand changes in URL position over period of a time, which helped understand our SEO efforts over time.  • Identifying Similar Keywords and Creating Themes: Used Word2Vec to create cosine similarity-based model to create themes out of 1M keywords. These themes were used to identify new SEO opportunities.  • Multiple Analytics Projects: Handled multiple insights and analytics projects which were shared with higher leadership to understand the impact of various efforts in SEO to bring more organic traffic. These efforts helped forecast a revenue of $4M for CC & DC Adobe clouds.  Ø        Dunnhumby India                             Gurgaon, Haryana             Senior Data Scientist, UK Based Client (Ecommerce + Retail)                    Sep 2019 – May 2021 • Point of Market Entry: Built a module to identify clearly defined entry point for customers. The target was to understand which products customer prefer when they are buying into specific category. • Front of Store Missions/Themes: FOS includes multiple categories making it hard to analyze, needs of customers. Using NMF and Clustering on 7M baskets, we created a mission view for vital FOS objectives, revealing shopper engagement patterns and basket composition. • POS Customer Segmentation: Built a model to tag customers based on available historic customer segmentation that splits customers based on life stage & affluence. This helped to understand profiles of POS Customers  • Identifying Cannibalization: Client reported inverse sales behavior after they launched new products. We hypothesized this problem as cannibalization and justified it using Natural Language Processing model based on string matching algorithms & user behavior analysis.  Ø         Tata Consultancy Services                        Noida, Uttar Pradesh                  Data Science and Analytics (Retail + Healthcare)                                             Jan 2017 – Aug 2019 • Apple Sales Forecasting: Worked on ML modelling for Apple Sales to forecast apple devices sales for upcoming months. • MySupply project: Tracked routine changes in Apple devices for every device (outside India Region). The task was to coordinate with business and send them regular insights about the impact of those changes in business. • Change Ownership: Led changes for client software requirements, managed a diverse team and ensured smooth business processes.    TECHNICAL INNOVATIONS & RESEARCH PROJECTS¨ MCMH Regressor + Classification for ETA Prediction (Fourkites, 2023-2024): Developed a novel hybrid approach combining Monte Carlo Markov Chain methods with hierarchical regression and classification techniques to improve ETA prediction accuracy. This method adaptively handles multimodal transportation factors and dynamically adjusts predictions based on real-time conditions.  ¨ Backlink Attribution & SEO Ranking Algorithm (Adobe, 2021-2022): Created a statistical model and algorithm to quantify the precise relationship between backlink acquisition strategies and SEO ranking improvements. The model incorporated over 50 backlink quality factors and established predictive curves for determining optimal backlink investment to achieve target ranking positions.  ¨ Real-Time Ad Selection System Architecture (Paytm, 2022-2023): Designed a multi-level scoring and normalization framework for millisecond-level ad selection decisions, integrating ML prediction scores with business constraints and contextual relevance signals.      AWARDSª Adobe: Won Quarterly award (2021-Q4) and Quarterly award (2022-Q1) subdomain migration and insightful model for Adobe’s outreach. ª Dunnhumby: Received 4 Well Dunn (appreciations) for Individual Contribution and leadership roles. ª TCS: Received 2 Spot Awards and 1 Quarterly Award for contribution in analytics and automation work. \\nPriyanshu's contact number is 8982542474\\nPriyanshu's email id id priyanshu.growth@gmail.com and priyanshukhandelwal.com@gmail.com\\n\\n\\nYou are a helpful assistant. You are answering all the questions as {name}.\\n\\n\"}, {'role': 'user', 'content': 'my email is g.k.com'}]\n",
      "Using Ollama model\n",
      "ChatCompletion(id='chatcmpl-392', choices=[Choice(finish_reason='tool_calls', index=0, logprobs=None, message=ChatCompletionMessage(content='', refusal=None, role='assistant', annotations=None, audio=None, function_call=None, tool_calls=[ChatCompletionMessageToolCall(id='call_z29g0r5r', function=Function(arguments='{\"email\":\"g.k.com\",\"name\":\"\",\"notes\":\"\",\"phone\":\"\"}', name='record_user_details'), type='function', index=0)]))], created=1751995681, model='llama3.2', object='chat.completion', service_tier=None, system_fingerprint='fp_ollama', usage=CompletionUsage(completion_tokens=33, prompt_tokens=3111, total_tokens=3144, completion_tokens_details=None, prompt_tokens_details=None))\n",
      "Finish Reasoning: tool_calls\n",
      "Tool called: record_user_details, Arguments: {'email': 'g.k.com', 'name': '', 'notes': '', 'phone': ''}\n",
      "Pushover message: User Details Recorded: Email: g.k.com, Name: , Phone: , Notes: \n",
      "Pushover message sent successfully.\n",
      "Using Ollama model\n",
      "ChatCompletion(id='chatcmpl-417', choices=[Choice(finish_reason='stop', index=0, logprobs=None, message=ChatCompletionMessage(content='Hello! I\\'ve taken note of your email address as \"g.k.com\". How can I assist you today? Are you looking to get in touch with Priyanshu Khandelwal or would you like me to answer a question on his behalf?', refusal=None, role='assistant', annotations=None, audio=None, function_call=None, tool_calls=None))], created=1751995683, model='llama3.2', object='chat.completion', service_tier=None, system_fingerprint='fp_ollama', usage=CompletionUsage(completion_tokens=53, prompt_tokens=2898, total_tokens=2951, completion_tokens_details=None, prompt_tokens_details=None))\n",
      "Finish Reasoning: stop\n"
     ]
    }
   ],
   "source": [
    "gr.ChatInterface(chat, type=\"messages\").launch()"
   ]
  },
  {
   "cell_type": "code",
   "execution_count": null,
   "id": "552bbc8c",
   "metadata": {},
   "outputs": [],
   "source": []
  }
 ],
 "metadata": {
  "kernelspec": {
   "display_name": "for_agents",
   "language": "python",
   "name": "python3"
  },
  "language_info": {
   "codemirror_mode": {
    "name": "ipython",
    "version": 3
   },
   "file_extension": ".py",
   "mimetype": "text/x-python",
   "name": "python",
   "nbconvert_exporter": "python",
   "pygments_lexer": "ipython3",
   "version": "3.9.6"
  }
 },
 "nbformat": 4,
 "nbformat_minor": 5
}
